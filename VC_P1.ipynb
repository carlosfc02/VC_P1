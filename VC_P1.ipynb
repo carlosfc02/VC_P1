{
 "cells": [
  {
   "cell_type": "markdown",
   "metadata": {},
   "source": [
    "Paquetes necesarios"
   ]
  },
  {
   "cell_type": "code",
   "execution_count": 2,
   "metadata": {},
   "outputs": [],
   "source": [
    "import cv2  \n",
    "import numpy as np\n",
    "import matplotlib.pyplot as plt"
   ]
  },
  {
   "cell_type": "markdown",
   "metadata": {},
   "source": [
    "Inicializaciones"
   ]
  },
  {
   "cell_type": "markdown",
   "metadata": {},
   "source": [
    "TAREA: Crea una imagen, p.e. de 800x800 píxeles, con la textura del tablero de ajedrez"
   ]
  },
  {
   "cell_type": "code",
   "execution_count": 66,
   "metadata": {},
   "outputs": [
    {
     "data": {
      "image/png": "[encoded data removed]",
      "text/plain": [
       "<Figure size 640x480 with 1 Axes>"
      ]
     },
     "metadata": {},
     "output_type": "display_data"
    }
   ],
   "source": [
    "square = 800\n",
    "img_chess=  np.zeros((square, square, 1), dtype= np.uint8)\n",
    "\n",
    "step = 100\n",
    "\n",
    "for row in range(square):\n",
    "    for column in range(square):\n",
    "        if (row+column) % 2 == 0:\n",
    "            start_row = row*step\n",
    "            start_column = column*step\n",
    "            end_row = (row+1)*step\n",
    "            end_column = (column+1)*step\n",
    "            img_chess[start_row:end_row,start_column:end_column,0] = 255\n",
    "plt.imshow(img_chess, cmap='gray')\n",
    "plt.show()"
   ]
  },
  {
   "cell_type": "markdown",
   "metadata": {},
   "source": [
    "TAREA: Crear una imagen estilo Mondrian (un ejemplo https://www3.gobiernodecanarias.org/medusa/ecoescuela/sa/2017/04/17/descubriendo-a-mondrian/ ) con las funciones de dibujo de OpenCV"
   ]
  },
  {
   "cell_type": "code",
   "execution_count": 67,
   "metadata": {},
   "outputs": [
    {
     "data": {
      "image/png": "[encoded data removed]",
      "text/plain": [
       "<Figure size 640x480 with 1 Axes>"
      ]
     },
     "metadata": {},
     "output_type": "display_data"
    }
   ],
   "source": [
    "height = 600\n",
    "width = 400\n",
    "\n",
    "mondrian_img = np.zeros((height, width, 3), dtype=np.uint8)\n",
    "\n",
    "mondrian_img[:,:,:] = 255\n",
    "cv2.line(mondrian_img, (100, 0), (100, height), (0,0,0), 5)\n",
    "cv2.line(mondrian_img, (300, 0), (300, 450), (0,0,0), 5)\n",
    "cv2.line(mondrian_img, (175, 0), (175, 350), (0,0,0), 5)\n",
    "cv2.line(mondrian_img, (0, 350), (300,350), (0,0,0), 5)\n",
    "cv2.line(mondrian_img, (0, 50), (100,50), (0,0,0), 5)\n",
    "cv2.line(mondrian_img, (175,200), (300,200), (0,0,0), 5)\n",
    "cv2.line(mondrian_img, (0,150), (400,150), (0,0,0), 5)\n",
    "cv2.line(mondrian_img, (0,450), (400,450), (0,0,0), 5)\n",
    "cv2.line(mondrian_img, (250, 450), (250, 600), (0,0,0), 5)\n",
    "cv2.line(mondrian_img, (100,525), (250,525), (0,0,0), 5)\n",
    "cv2.line(mondrian_img, (250,150), (250, 200), (0,0,0), 5)\n",
    "cv2.line(mondrian_img, (150, 80), (300, 80), (0,0,0), 5)\n",
    "cv2.line(mondrian_img, (225,0), (225, 80), (0,0,0), 5)\n",
    "cv2.line(mondrian_img, (200, 350), (200,450), (0,0,0), 5)\n",
    "\n",
    "cv2.rectangle(mondrian_img, (0,0), (96,46), (255,50,0), -1)\n",
    "cv2.rectangle(mondrian_img, (304,0), (400,146), (255,255,0), -1)\n",
    "cv2.rectangle(mondrian_img, (104,154), (171,346), (0,100,255), -1)\n",
    "cv2.rectangle(mondrian_img, (0,346), (96, 446), (0,0,0), -1)\n",
    "cv2.rectangle(mondrian_img, (0,154), (96,346), (255,255,0), -1)\n",
    "cv2.rectangle(mondrian_img, (179,204), (296,346), (255,50,0), -1)\n",
    "cv2.rectangle(mondrian_img, (104,0), (171, 146), (0,0,0), -1)\n",
    "cv2.rectangle(mondrian_img, (304, 154), (400, 446), (0,100, 255), -1)\n",
    "cv2.rectangle(mondrian_img, (104, 454), (246, 521), (255,50,0), -1)\n",
    "cv2.rectangle(mondrian_img, (254, 454), (400, 600), (255,255,0), -1)\n",
    "cv2.rectangle(mondrian_img, (0, 454), (96, 600), (0,100,255), -1)\n",
    "cv2.rectangle(mondrian_img, (254, 154), (296, 196), (0,0,0), -1)\n",
    "\n",
    "plt.imshow(mondrian_img)\n",
    "plt.show()"
   ]
  },
  {
   "cell_type": "markdown",
   "metadata": {},
   "source": [
    "TAREA: Modifica de forma libre los valores de un plano de la imagen"
   ]
  },
  {
   "cell_type": "code",
   "execution_count": 68,
   "metadata": {},
   "outputs": [],
   "source": [
    "vid = cv2.VideoCapture(0)\n",
    "  \n",
    "while(True):      \n",
    "    # fotograma a fotograma\n",
    "    ret, frame = vid.read()\n",
    "\n",
    "    if ret:\n",
    "        #Separamos canales\n",
    "        b = frame[:,:,0]\n",
    "        g = frame[:,:,1]\n",
    "        r = frame[:,:,2]\n",
    "        #Dimensiones imagen de entrada\n",
    "        h, w, c = frame.shape\n",
    "\n",
    "        r[50:200, 100:500] = 1\n",
    "\n",
    "        #Concateamos en horizontal los tres planos del fotograma\n",
    "        collage = np.hstack((r, g, b))\n",
    "    \n",
    "        # Muestra fotograma redimensionando a la mitad para que quepa en pantalla\n",
    "        cv2.imshow('RGB', cv2.resize(collage, (int(w*1.5),int(h/2)),cv2.INTER_NEAREST))\n",
    "    \n",
    "    # Detenemos pulsado ESC\n",
    "    if cv2.waitKey(20) == 27:\n",
    "        break\n",
    "  \n",
    "# Libera el objeto de captura\n",
    "vid.release()\n",
    "# Destruye ventanas\n",
    "cv2.destroyAllWindows()"
   ]
  },
  {
   "cell_type": "markdown",
   "metadata": {},
   "source": [
    "TAREA:\n",
    "Pintar círculos en las posiciones del píxel más claro y oscuro de la imagen "
   ]
  },
  {
   "cell_type": "code",
   "execution_count": 69,
   "metadata": {},
   "outputs": [],
   "source": [
    "vid = cv2.VideoCapture(0)\n",
    "\n",
    "while True:\n",
    "    ret, frame = vid.read()\n",
    "\n",
    "    # Convert to grayscale to measure brightness\n",
    "    gray = cv2.cvtColor(frame, cv2.COLOR_BGR2GRAY)\n",
    "\n",
    "    # Find te darkest and brightest pixel in the image\n",
    "    min_val, max_val, min_loc, max_loc = cv2.minMaxLoc(gray)\n",
    "\n",
    "    # Draw circles on the darkest and brightest pixel locations\n",
    "    cv2.circle(frame, min_loc, 10, (0,0,255, 2))\n",
    "    cv2.circle(frame, max_loc, 10, (0,255,0, 2))\n",
    "\n",
    "    cv2.imshow('Cam', frame)\n",
    "\n",
    "    if cv2.waitKey(20) == 27:\n",
    "        break\n",
    "  \n",
    "vid.release()\n",
    "cv2.destroyAllWindows()\n"
   ]
  },
  {
   "cell_type": "markdown",
   "metadata": {},
   "source": [
    "¿Si quisieras hacerlo sobre la zona 8x8 más clara/oscura?"
   ]
  },
  {
   "cell_type": "code",
   "execution_count": 70,
   "metadata": {},
   "outputs": [],
   "source": [
    "vid = cv2.VideoCapture(0)\n",
    "\n",
    "while True:\n",
    "    ret, frame = vid.read()\n",
    "\n",
    "    # Convert to grayscale to measure brightness\n",
    "\n",
    "    gray = cv2.cvtColor(frame, cv2.COLOR_BGR2GRAY)\n",
    "\n",
    "    # Apply a mean filter with a block of 8x8\n",
    "    mean = cv2.blur(gray, (8,8))\n",
    "\n",
    "    # Find te darkest and brightest block of 8x8 in the image\n",
    "    min_val, max_val, min_loc, max_loc = cv2.minMaxLoc(mean)\n",
    "\n",
    "    # Draw rectangles (8x8) around the darkest and brightest regions\n",
    "    cv2.rectangle(frame, min_loc, (min_loc[0]+8, min_loc[1]+8), (0,0,255), 2)\n",
    "    cv2.rectangle(frame, max_loc, (max_loc[0]+8, max_loc[1]+8), (0,255,0), 2)\n",
    "\n",
    "    cv2.imshow('Cam', frame)\n",
    "\n",
    "    if cv2.waitKey(20) == 27:\n",
    "        break\n",
    "  \n",
    "vid.release()\n",
    "cv2.destroyAllWindows()\n"
   ]
  },
  {
   "cell_type": "markdown",
   "metadata": {},
   "source": [
    "TAREA: Llevar a cabo una propuesta propia de pop art"
   ]
  },
  {
   "cell_type": "code",
   "execution_count": 71,
   "metadata": {},
   "outputs": [],
   "source": [
    "vid = cv2.VideoCapture(0)\n",
    "\n",
    "#Dimensiones de la cámara\n",
    "w = int(vid.get(cv2.CAP_PROP_FRAME_WIDTH))\n",
    "h = int(vid.get(cv2.CAP_PROP_FRAME_HEIGHT))\n",
    "\n",
    "#Fuerzo a mitad de resolución para ocupar menos pantalla\n",
    "w=int(w/2)\n",
    "h=int(h/2)\n",
    "vid.set(cv2.CAP_PROP_FRAME_WIDTH, w) #En Mac no reacciona a estos comandos\n",
    "vid.set(cv2.CAP_PROP_FRAME_HEIGHT, h)\n",
    "\n",
    "#Imagen conjunta 2x original\n",
    "collage = np.zeros((h*2,w*2,3), dtype = np.uint8)\n",
    "tl = collage[0:h,0:w]\n",
    "tr = collage[0:h,w:w+w]\n",
    "bl = collage[h:h+h,0:w]\n",
    "br = collage[h:h+h,w:w+w]\n",
    "\n",
    "image = cv2.imread(\"Albert_Einstein_sticks_his_tongue.jpg\")\n",
    "image = cv2.resize(image, (w,h))\n",
    "\n",
    "\n",
    "while True:      \n",
    "    # fotograma a fotograma\n",
    "    ret, frameIN = vid.read()\n",
    "\n",
    "    #Menor tamaño\n",
    "    frame = cv2.resize(frameIN, (int(w),int(h)),cv2.INTER_NEAREST)\n",
    "    gray = cv2.cvtColor(frame, cv2.COLOR_BGR2GRAY)\n",
    "    if ret:\n",
    "        #Separamos canales\n",
    "        r = frame[:,:,2]\n",
    "        g = frame[:,:,1]\n",
    "        b = frame[:,:,0]\n",
    "\n",
    "        #Jugamos con los valores de los planos\n",
    "        tl[:,:,0] = gray\n",
    "        tl[:,:,1] = gray\n",
    "        tl[:,:,2] = gray\n",
    "\n",
    "        tr[:,:,0] = 255 - r\n",
    "        tr[:,:,1] = g -r \n",
    "        tr[:,:,2] = 255 -r\n",
    "        \n",
    "        bl[:,:,0] = 255 - g\n",
    "        bl[:,:,1] = 255 - b \n",
    "        bl[:,:,2] = r\n",
    "\n",
    "        br[:,:,:] = image\n",
    "    \n",
    "        # Muestra composición\n",
    "        cv2.imshow('Cam', collage)\n",
    "    \n",
    "    # Detenemos pulsado ESC\n",
    "    if cv2.waitKey(20) == 27:\n",
    "        break\n",
    "  \n",
    "# Libera el objeto de captura\n",
    "vid.release()\n",
    "# Destruye ventanas\n",
    "cv2.destroyAllWindows()"
   ]
  }
 ],
 "metadata": {
  "kernelspec": {
   "display_name": "VC_P1",
   "language": "python",
   "name": "python3"
  },
  "language_info": {
   "codemirror_mode": {
    "name": "ipython",
    "version": 3
   },
   "file_extension": ".py",
   "mimetype": "text/x-python",
   "name": "python",
   "nbconvert_exporter": "python",
   "pygments_lexer": "ipython3",
   "version": "3.11.5"
  },
  "orig_nbformat": 4
 },
 "nbformat": 4,
 "nbformat_minor": 2
}
